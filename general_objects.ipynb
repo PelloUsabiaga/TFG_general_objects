{
  "cells": [
    {
      "cell_type": "markdown",
      "metadata": {
        "id": "9coggNtBQ73h"
      },
      "source": [
        "Objects of 3x3x3 blocs"
      ]
    },
    {
      "cell_type": "code",
      "execution_count": null,
      "metadata": {
        "id": "xPhfmzahRPIG"
      },
      "outputs": [],
      "source": [
        "import numpy as np"
      ]
    },
    {
      "cell_type": "code",
      "execution_count": null,
      "metadata": {
        "id": "aam8a4AxR7uq"
      },
      "outputs": [],
      "source": [
        "def get_x_profile(array):\n",
        "  return np.array([array[i].sum() for i in range(len(array))])\n",
        "\n",
        "def get_y_profile(array):\n",
        "  return np.array([sum([array[j][i].sum() for j in range(len(array))]) for i in range(len(array))])\n",
        "\n",
        "def get_z_profile(array):\n",
        "  return np.array([sum([sum([array[k][j][i] for k in range(len(array))]) for j in range(len(array))]) for i in range(len(array))])\n",
        "\n",
        "def get_zz_profile(array):\n",
        "  ret_array = np.zeros((corner_n * 2 - 1))\n",
        "  for x in range(corner_n):\n",
        "    for y in range(corner_n):\n",
        "      for z in range(corner_n):\n",
        "        ret_array[x + y] += array[x][y][z]\n",
        "  return ret_array   \n",
        "\n",
        "def get_yy_profile(array):\n",
        "  ret_array = np.zeros((corner_n * 2 - 1))\n",
        "  for x in range(corner_n):\n",
        "    for y in range(corner_n):\n",
        "      for z in range(corner_n):\n",
        "        ret_array[x + z] += array[x][y][z]\n",
        "  return ret_array\n",
        "\n",
        "def get_xx_profile(array):\n",
        "  ret_array = np.zeros((corner_n * 2 - 1))\n",
        "  for x in range(corner_n):\n",
        "    for y in range(corner_n):\n",
        "      for z in range(corner_n):\n",
        "        ret_array[z + y] += array[x][y][z]\n",
        "  return ret_array"
      ]
    },
    {
      "cell_type": "code",
      "execution_count": null,
      "metadata": {
        "colab": {
          "base_uri": "https://localhost:8080/"
        },
        "id": "vowpk9gYCCt4",
        "outputId": "a045cc12-5229-4ab3-e751-bf359ddc061a"
      },
      "outputs": [
        {
          "name": "stdout",
          "output_type": "stream",
          "text": [
            "24\n"
          ]
        }
      ],
      "source": [
        "corner_n = 3\n",
        "obj = np.random.randint(0, high=2, size=(corner_n, corner_n, corner_n))\n",
        "\n",
        "res = np.concatenate((get_x_profile(obj),\n",
        "                get_y_profile(obj),\n",
        "                get_z_profile(obj),\n",
        "                get_zz_profile(obj),\n",
        "                get_yy_profile(obj),\n",
        "                get_xx_profile(obj)))\n",
        "total_arguments = len(res)\n",
        "print(total_arguments)"
      ]
    },
    {
      "cell_type": "code",
      "execution_count": null,
      "metadata": {
        "id": "iLBW8C4Navvq"
      },
      "outputs": [],
      "source": [
        "train_len = 30000\n",
        "\n",
        "train_objects = np.empty((train_len, corner_n, corner_n, corner_n))\n",
        "\n",
        "for i in range(train_len):\n",
        "  train_objects[i] = np.random.randint(0, high=2, size=(corner_n, corner_n, corner_n))\n",
        "\n",
        "train_outputs = np.empty((train_len, total_arguments))\n",
        "\n",
        "for i in range(train_len):\n",
        "  train_outputs[i] = np.concatenate((get_x_profile(train_objects[i]),\n",
        "                                     get_y_profile(train_objects[i]),\n",
        "                                     get_z_profile(train_objects[i]),\n",
        "                                     get_zz_profile(train_objects[i]),\n",
        "                                     get_yy_profile(train_objects[i]),\n",
        "                                     get_xx_profile(train_objects[i])))\n"
      ]
    },
    {
      "cell_type": "code",
      "execution_count": null,
      "metadata": {
        "id": "MMLJJnTugMHE"
      },
      "outputs": [],
      "source": [
        "test_len = 1000\n",
        "\n",
        "test_objects = np.empty((test_len, corner_n, corner_n, corner_n))\n",
        "\n",
        "for i in range(test_len):\n",
        "  test_objects[i] = np.random.randint(0, high=2, size=(corner_n, corner_n, corner_n))\n",
        "\n",
        "test_outputs = np.empty((test_len, total_arguments))\n",
        "\n",
        "for i in range(test_len):\n",
        "  test_outputs[i] = np.concatenate((get_x_profile(test_objects[i]),\n",
        "                                    get_y_profile(test_objects[i]),\n",
        "                                    get_z_profile(test_objects[i]),\n",
        "                                    get_zz_profile(test_objects[i]),\n",
        "                                    get_yy_profile(test_objects[i]),\n",
        "                                    get_xx_profile(test_objects[i])))"
      ]
    },
    {
      "cell_type": "markdown",
      "metadata": {
        "id": "rHptm6QxgtmM"
      },
      "source": [
        "Creamos el modelo para objetos 3x3x3"
      ]
    },
    {
      "cell_type": "code",
      "execution_count": null,
      "metadata": {
        "id": "E-cerVkQg0FZ"
      },
      "outputs": [],
      "source": [
        "%tensorflow_version 2.x\n",
        "\n",
        "import tensorflow as tf\n",
        "from tensorflow import keras\n",
        "\n",
        "import numpy as np\n",
        "import matplotlib.pyplot as plt"
      ]
    },
    {
      "cell_type": "code",
      "execution_count": null,
      "metadata": {
        "id": "PNACFj8fg7zo"
      },
      "outputs": [],
      "source": [
        "model_cube = [[[0] * corner_n for i in range(corner_n)] for j in range(corner_n)]\n",
        "\n",
        "\n",
        "for x in range(corner_n):\n",
        "  for y in range(corner_n):\n",
        "    for z in range(corner_n):\n",
        "      model_cube[x][y][z] = keras.Sequential([\n",
        "                            keras.layers.Flatten(input_shape = (total_arguments,)),\n",
        "                            keras.layers.Dense(128, activation='relu'),\n",
        "                            keras.layers.Dense(256, activation='relu'),\n",
        "                            keras.layers.Dense(128, activation='sigmoid'),\n",
        "                            keras.layers.Dense(27, activation=\"sigmoid\"),\n",
        "                            keras.layers.Dense(1, activation=\"sigmoid\")\n",
        "                            ])\n",
        "      model_cube[x][y][z].compile(optimizer='adam',\n",
        "                    loss='mse',\n",
        "                    metrics=['accuracy'])\n",
        "\n"
      ]
    },
    {
      "cell_type": "code",
      "execution_count": null,
      "metadata": {
        "colab": {
          "base_uri": "https://localhost:8080/"
        },
        "id": "nyOkKmiWh-Cw",
        "outputId": "d8a74938-73cf-4e16-fbe4-c67939389778"
      },
      "outputs": [
        {
          "name": "stdout",
          "output_type": "stream",
          "text": [
            "0, 0, 0\n",
            "Epoch 1/6\n",
            "938/938 [==============================] - 3s 3ms/step - loss: 0.0480 - accuracy: 0.9329\n",
            "Epoch 2/6\n",
            "938/938 [==============================] - 3s 3ms/step - loss: 0.0470 - accuracy: 0.9362\n",
            "Epoch 3/6\n",
            "938/938 [==============================] - 3s 3ms/step - loss: 0.0449 - accuracy: 0.9378\n",
            "Epoch 4/6\n",
            "938/938 [==============================] - 3s 3ms/step - loss: 0.0447 - accuracy: 0.9401\n",
            "Epoch 5/6\n",
            "938/938 [==============================] - 3s 3ms/step - loss: 0.0435 - accuracy: 0.9399\n",
            "Epoch 6/6\n",
            "938/938 [==============================] - 3s 3ms/step - loss: 0.0432 - accuracy: 0.9407\n",
            "0, 0, 1\n",
            "Epoch 1/6\n",
            "938/938 [==============================] - 3s 3ms/step - loss: 0.0777 - accuracy: 0.8887\n",
            "Epoch 2/6\n",
            "938/938 [==============================] - 3s 3ms/step - loss: 0.0767 - accuracy: 0.8908\n",
            "Epoch 3/6\n",
            "938/938 [==============================] - 3s 3ms/step - loss: 0.0764 - accuracy: 0.8904\n",
            "Epoch 4/6\n",
            "938/938 [==============================] - 3s 3ms/step - loss: 0.0758 - accuracy: 0.8913\n",
            "Epoch 5/6\n",
            "938/938 [==============================] - 3s 3ms/step - loss: 0.0748 - accuracy: 0.8910\n",
            "Epoch 6/6\n",
            "938/938 [==============================] - 3s 3ms/step - loss: 0.0744 - accuracy: 0.8944\n",
            "0, 0, 2\n",
            "Epoch 1/6\n",
            "938/938 [==============================] - 3s 3ms/step - loss: 0.0811 - accuracy: 0.8837\n",
            "Epoch 2/6\n",
            "938/938 [==============================] - 3s 3ms/step - loss: 0.0787 - accuracy: 0.8879\n",
            "Epoch 3/6\n",
            "938/938 [==============================] - 3s 3ms/step - loss: 0.0775 - accuracy: 0.8876\n",
            "Epoch 4/6\n",
            "938/938 [==============================] - 3s 3ms/step - loss: 0.0762 - accuracy: 0.8902\n",
            "Epoch 5/6\n",
            "938/938 [==============================] - 3s 3ms/step - loss: 0.0752 - accuracy: 0.8919\n",
            "Epoch 6/6\n",
            "938/938 [==============================] - 3s 3ms/step - loss: 0.0746 - accuracy: 0.8928\n",
            "0, 1, 0\n",
            "Epoch 1/6\n",
            "938/938 [==============================] - 3s 3ms/step - loss: 0.0790 - accuracy: 0.8889\n",
            "Epoch 2/6\n",
            "938/938 [==============================] - 3s 3ms/step - loss: 0.0782 - accuracy: 0.8896\n",
            "Epoch 3/6\n",
            "938/938 [==============================] - 3s 3ms/step - loss: 0.0770 - accuracy: 0.8905\n",
            "Epoch 4/6\n",
            "938/938 [==============================] - 3s 3ms/step - loss: 0.0760 - accuracy: 0.8923\n",
            "Epoch 5/6\n",
            "938/938 [==============================] - 3s 3ms/step - loss: 0.0753 - accuracy: 0.8934\n",
            "Epoch 6/6\n",
            "938/938 [==============================] - 3s 3ms/step - loss: 0.0751 - accuracy: 0.8943\n",
            "0, 1, 1\n",
            "Epoch 1/6\n",
            "938/938 [==============================] - 3s 3ms/step - loss: 0.0793 - accuracy: 0.8884\n",
            "Epoch 2/6\n",
            "938/938 [==============================] - 3s 3ms/step - loss: 0.0775 - accuracy: 0.8897\n",
            "Epoch 3/6\n",
            "938/938 [==============================] - 3s 3ms/step - loss: 0.0764 - accuracy: 0.8920\n",
            "Epoch 4/6\n",
            "938/938 [==============================] - 3s 3ms/step - loss: 0.0759 - accuracy: 0.8934\n",
            "Epoch 5/6\n",
            "938/938 [==============================] - 3s 3ms/step - loss: 0.0759 - accuracy: 0.8920\n",
            "Epoch 6/6\n",
            "938/938 [==============================] - 3s 3ms/step - loss: 0.0737 - accuracy: 0.8963\n",
            "0, 1, 2\n",
            "Epoch 1/6\n",
            "938/938 [==============================] - 3s 3ms/step - loss: 0.1018 - accuracy: 0.8574\n",
            "Epoch 2/6\n",
            "938/938 [==============================] - 3s 3ms/step - loss: 0.1003 - accuracy: 0.8589\n",
            "Epoch 3/6\n",
            "938/938 [==============================] - 3s 3ms/step - loss: 0.1005 - accuracy: 0.8598\n",
            "Epoch 4/6\n",
            "938/938 [==============================] - 3s 3ms/step - loss: 0.0990 - accuracy: 0.8608\n",
            "Epoch 5/6\n",
            "938/938 [==============================] - 3s 3ms/step - loss: 0.0978 - accuracy: 0.8642\n",
            "Epoch 6/6\n",
            "938/938 [==============================] - 3s 3ms/step - loss: 0.0962 - accuracy: 0.8656\n",
            "0, 2, 0\n",
            "Epoch 1/6\n",
            "938/938 [==============================] - 3s 3ms/step - loss: 0.0794 - accuracy: 0.8872\n",
            "Epoch 2/6\n",
            "938/938 [==============================] - 3s 3ms/step - loss: 0.0792 - accuracy: 0.8876\n",
            "Epoch 3/6\n",
            "938/938 [==============================] - 3s 3ms/step - loss: 0.0782 - accuracy: 0.8890\n",
            "Epoch 4/6\n",
            "938/938 [==============================] - 3s 3ms/step - loss: 0.0764 - accuracy: 0.8917\n",
            "Epoch 5/6\n",
            "938/938 [==============================] - 3s 3ms/step - loss: 0.0758 - accuracy: 0.8921\n",
            "Epoch 6/6\n",
            "938/938 [==============================] - 3s 3ms/step - loss: 0.0745 - accuracy: 0.8937\n",
            "0, 2, 1\n",
            "Epoch 1/6\n",
            "938/938 [==============================] - 3s 3ms/step - loss: 0.1011 - accuracy: 0.8570\n",
            "Epoch 2/6\n",
            "938/938 [==============================] - 3s 3ms/step - loss: 0.1005 - accuracy: 0.8577\n",
            "Epoch 3/6\n",
            "938/938 [==============================] - 3s 3ms/step - loss: 0.0997 - accuracy: 0.8585\n",
            "Epoch 4/6\n",
            "938/938 [==============================] - 3s 3ms/step - loss: 0.0993 - accuracy: 0.8593\n",
            "Epoch 5/6\n",
            "938/938 [==============================] - 3s 3ms/step - loss: 0.0987 - accuracy: 0.8613\n",
            "Epoch 6/6\n",
            "938/938 [==============================] - 3s 3ms/step - loss: 0.0971 - accuracy: 0.8624\n",
            "0, 2, 2\n",
            "Epoch 1/6\n",
            "938/938 [==============================] - 3s 3ms/step - loss: 0.0769 - accuracy: 0.8915\n",
            "Epoch 2/6\n",
            "938/938 [==============================] - 3s 3ms/step - loss: 0.0760 - accuracy: 0.8918\n",
            "Epoch 3/6\n",
            "938/938 [==============================] - 3s 3ms/step - loss: 0.0754 - accuracy: 0.8946\n",
            "Epoch 4/6\n",
            "938/938 [==============================] - 3s 3ms/step - loss: 0.0744 - accuracy: 0.8950\n",
            "Epoch 5/6\n",
            "938/938 [==============================] - 3s 3ms/step - loss: 0.0737 - accuracy: 0.8951\n",
            "Epoch 6/6\n",
            "938/938 [==============================] - 3s 3ms/step - loss: 0.0729 - accuracy: 0.8971\n",
            "1, 0, 0\n",
            "Epoch 1/6\n",
            "938/938 [==============================] - 3s 3ms/step - loss: 0.0784 - accuracy: 0.8897\n",
            "Epoch 2/6\n",
            "938/938 [==============================] - 3s 3ms/step - loss: 0.0775 - accuracy: 0.8912\n",
            "Epoch 3/6\n",
            "938/938 [==============================] - 3s 3ms/step - loss: 0.0762 - accuracy: 0.8911\n",
            "Epoch 4/6\n",
            "938/938 [==============================] - 3s 3ms/step - loss: 0.0757 - accuracy: 0.8923\n",
            "Epoch 5/6\n",
            "938/938 [==============================] - 3s 3ms/step - loss: 0.0746 - accuracy: 0.8953\n",
            "Epoch 6/6\n",
            "938/938 [==============================] - 3s 3ms/step - loss: 0.0737 - accuracy: 0.8963\n",
            "1, 0, 1\n",
            "Epoch 1/6\n",
            "938/938 [==============================] - 3s 3ms/step - loss: 0.0768 - accuracy: 0.8922\n",
            "Epoch 2/6\n",
            "938/938 [==============================] - 3s 3ms/step - loss: 0.0751 - accuracy: 0.8935\n",
            "Epoch 3/6\n",
            "938/938 [==============================] - 3s 3ms/step - loss: 0.0755 - accuracy: 0.8936\n",
            "Epoch 4/6\n",
            "938/938 [==============================] - 3s 3ms/step - loss: 0.0739 - accuracy: 0.8959\n",
            "Epoch 5/6\n",
            "938/938 [==============================] - 3s 3ms/step - loss: 0.0732 - accuracy: 0.8976\n",
            "Epoch 6/6\n",
            "938/938 [==============================] - 3s 3ms/step - loss: 0.0721 - accuracy: 0.8993\n",
            "1, 0, 2\n",
            "Epoch 1/6\n",
            "938/938 [==============================] - 3s 3ms/step - loss: 0.1005 - accuracy: 0.8584\n",
            "Epoch 2/6\n",
            "938/938 [==============================] - 3s 3ms/step - loss: 0.1002 - accuracy: 0.8578\n",
            "Epoch 3/6\n",
            "938/938 [==============================] - 3s 3ms/step - loss: 0.0984 - accuracy: 0.8595\n",
            "Epoch 4/6\n",
            "938/938 [==============================] - 3s 3ms/step - loss: 0.0984 - accuracy: 0.8604\n",
            "Epoch 5/6\n",
            "938/938 [==============================] - 3s 3ms/step - loss: 0.0972 - accuracy: 0.8627\n",
            "Epoch 6/6\n",
            "938/938 [==============================] - 3s 3ms/step - loss: 0.0959 - accuracy: 0.8639\n",
            "1, 1, 0\n",
            "Epoch 1/6\n",
            "938/938 [==============================] - 3s 3ms/step - loss: 0.0789 - accuracy: 0.8885\n",
            "Epoch 2/6\n",
            "938/938 [==============================] - 3s 3ms/step - loss: 0.0788 - accuracy: 0.8877\n",
            "Epoch 3/6\n",
            "938/938 [==============================] - 3s 3ms/step - loss: 0.0771 - accuracy: 0.8917\n",
            "Epoch 4/6\n",
            "938/938 [==============================] - 3s 3ms/step - loss: 0.0771 - accuracy: 0.8911\n",
            "Epoch 5/6\n",
            "938/938 [==============================] - 3s 4ms/step - loss: 0.0757 - accuracy: 0.8933\n",
            "Epoch 6/6\n",
            "938/938 [==============================] - 3s 3ms/step - loss: 0.0755 - accuracy: 0.8922\n",
            "1, 1, 1\n",
            "Epoch 1/6\n",
            "938/938 [==============================] - 3s 3ms/step - loss: 0.0483 - accuracy: 0.9334\n",
            "Epoch 2/6\n",
            "938/938 [==============================] - 3s 3ms/step - loss: 0.0466 - accuracy: 0.9365\n",
            "Epoch 3/6\n",
            "938/938 [==============================] - 3s 3ms/step - loss: 0.0466 - accuracy: 0.9356\n",
            "Epoch 4/6\n",
            "938/938 [==============================] - 3s 3ms/step - loss: 0.0465 - accuracy: 0.9359\n",
            "Epoch 5/6\n",
            "938/938 [==============================] - 3s 3ms/step - loss: 0.0443 - accuracy: 0.9378\n",
            "Epoch 6/6\n",
            "938/938 [==============================] - 3s 4ms/step - loss: 0.0436 - accuracy: 0.9397\n",
            "1, 1, 2\n",
            "Epoch 1/6\n",
            "938/938 [==============================] - 3s 4ms/step - loss: 0.0810 - accuracy: 0.8860\n",
            "Epoch 2/6\n",
            "938/938 [==============================] - 3s 4ms/step - loss: 0.0790 - accuracy: 0.8892\n",
            "Epoch 3/6\n",
            "938/938 [==============================] - 3s 3ms/step - loss: 0.0778 - accuracy: 0.8908\n",
            "Epoch 4/6\n",
            "938/938 [==============================] - 3s 3ms/step - loss: 0.0772 - accuracy: 0.8924\n",
            "Epoch 5/6\n",
            "938/938 [==============================] - 3s 3ms/step - loss: 0.0757 - accuracy: 0.8928\n",
            "Epoch 6/6\n",
            "938/938 [==============================] - 3s 3ms/step - loss: 0.0755 - accuracy: 0.8924\n",
            "1, 2, 0\n",
            "Epoch 1/6\n",
            "938/938 [==============================] - 3s 3ms/step - loss: 0.1041 - accuracy: 0.8515\n",
            "Epoch 2/6\n",
            "938/938 [==============================] - 3s 3ms/step - loss: 0.1029 - accuracy: 0.8523\n",
            "Epoch 3/6\n",
            "938/938 [==============================] - 3s 3ms/step - loss: 0.1016 - accuracy: 0.8557\n",
            "Epoch 4/6\n",
            "938/938 [==============================] - 3s 3ms/step - loss: 0.1011 - accuracy: 0.8560\n",
            "Epoch 5/6\n",
            "938/938 [==============================] - 3s 3ms/step - loss: 0.0998 - accuracy: 0.8586\n",
            "Epoch 6/6\n",
            "938/938 [==============================] - 3s 3ms/step - loss: 0.0995 - accuracy: 0.8577\n",
            "1, 2, 1\n",
            "Epoch 1/6\n",
            "938/938 [==============================] - 3s 3ms/step - loss: 0.0781 - accuracy: 0.8911\n",
            "Epoch 2/6\n",
            "938/938 [==============================] - 3s 4ms/step - loss: 0.0769 - accuracy: 0.8924\n",
            "Epoch 3/6\n",
            "938/938 [==============================] - 3s 3ms/step - loss: 0.0757 - accuracy: 0.8952\n",
            "Epoch 4/6\n",
            "938/938 [==============================] - 3s 3ms/step - loss: 0.0742 - accuracy: 0.8972\n",
            "Epoch 5/6\n",
            "938/938 [==============================] - 3s 4ms/step - loss: 0.0734 - accuracy: 0.8980\n",
            "Epoch 6/6\n",
            "938/938 [==============================] - 3s 4ms/step - loss: 0.0728 - accuracy: 0.8981\n",
            "1, 2, 2\n",
            "Epoch 1/6\n",
            "938/938 [==============================] - 4s 4ms/step - loss: 0.0800 - accuracy: 0.8855\n",
            "Epoch 2/6\n",
            "938/938 [==============================] - 3s 4ms/step - loss: 0.0794 - accuracy: 0.8885\n",
            "Epoch 3/6\n",
            "938/938 [==============================] - 3s 3ms/step - loss: 0.0791 - accuracy: 0.8865\n",
            "Epoch 4/6\n",
            "938/938 [==============================] - 3s 3ms/step - loss: 0.0775 - accuracy: 0.8900\n",
            "Epoch 5/6\n",
            "938/938 [==============================] - 4s 4ms/step - loss: 0.0764 - accuracy: 0.8908\n",
            "Epoch 6/6\n",
            "938/938 [==============================] - 3s 3ms/step - loss: 0.0758 - accuracy: 0.8917\n",
            "2, 0, 0\n",
            "Epoch 1/6\n",
            "938/938 [==============================] - 3s 4ms/step - loss: 0.0788 - accuracy: 0.8901\n",
            "Epoch 2/6\n",
            "938/938 [==============================] - 3s 3ms/step - loss: 0.0766 - accuracy: 0.8947\n",
            "Epoch 3/6\n",
            "938/938 [==============================] - 3s 3ms/step - loss: 0.0753 - accuracy: 0.8955\n",
            "Epoch 4/6\n",
            "938/938 [==============================] - 3s 3ms/step - loss: 0.0741 - accuracy: 0.8967\n",
            "Epoch 5/6\n",
            "938/938 [==============================] - 3s 4ms/step - loss: 0.0735 - accuracy: 0.8982\n",
            "Epoch 6/6\n",
            "938/938 [==============================] - 3s 3ms/step - loss: 0.0727 - accuracy: 0.8992\n",
            "2, 0, 1\n",
            "Epoch 1/6\n",
            "938/938 [==============================] - 3s 3ms/step - loss: 0.1019 - accuracy: 0.8550\n",
            "Epoch 2/6\n",
            "938/938 [==============================] - 3s 4ms/step - loss: 0.1006 - accuracy: 0.8574\n",
            "Epoch 3/6\n",
            "938/938 [==============================] - 3s 3ms/step - loss: 0.0997 - accuracy: 0.8592\n",
            "Epoch 4/6\n",
            "938/938 [==============================] - 3s 3ms/step - loss: 0.0984 - accuracy: 0.8614\n",
            "Epoch 5/6\n",
            "938/938 [==============================] - 3s 4ms/step - loss: 0.0968 - accuracy: 0.8640\n",
            "Epoch 6/6\n",
            "938/938 [==============================] - 3s 3ms/step - loss: 0.0960 - accuracy: 0.8655\n",
            "2, 0, 2\n",
            "Epoch 1/6\n",
            "938/938 [==============================] - 3s 3ms/step - loss: 0.0773 - accuracy: 0.8910\n",
            "Epoch 2/6\n",
            "938/938 [==============================] - 3s 4ms/step - loss: 0.0781 - accuracy: 0.8891\n",
            "Epoch 3/6\n",
            "938/938 [==============================] - 3s 3ms/step - loss: 0.0765 - accuracy: 0.8920\n",
            "Epoch 4/6\n",
            "938/938 [==============================] - 3s 4ms/step - loss: 0.0751 - accuracy: 0.8930\n",
            "Epoch 5/6\n",
            "938/938 [==============================] - 3s 4ms/step - loss: 0.0741 - accuracy: 0.8946\n",
            "Epoch 6/6\n",
            "938/938 [==============================] - 3s 3ms/step - loss: 0.0732 - accuracy: 0.8960\n",
            "2, 1, 0\n",
            "Epoch 1/6\n",
            "938/938 [==============================] - 3s 3ms/step - loss: 0.1027 - accuracy: 0.8544\n",
            "Epoch 2/6\n",
            "938/938 [==============================] - 3s 3ms/step - loss: 0.1017 - accuracy: 0.8536\n",
            "Epoch 3/6\n",
            "938/938 [==============================] - 3s 3ms/step - loss: 0.1012 - accuracy: 0.8575\n",
            "Epoch 4/6\n",
            "938/938 [==============================] - 3s 3ms/step - loss: 0.0997 - accuracy: 0.8596\n",
            "Epoch 5/6\n",
            "938/938 [==============================] - 3s 3ms/step - loss: 0.0986 - accuracy: 0.8600\n",
            "Epoch 6/6\n",
            "938/938 [==============================] - 3s 3ms/step - loss: 0.0974 - accuracy: 0.8614\n",
            "2, 1, 1\n",
            "Epoch 1/6\n",
            "938/938 [==============================] - 3s 4ms/step - loss: 0.0785 - accuracy: 0.8895\n",
            "Epoch 2/6\n",
            "938/938 [==============================] - 3s 3ms/step - loss: 0.0776 - accuracy: 0.8916\n",
            "Epoch 3/6\n",
            "938/938 [==============================] - 3s 3ms/step - loss: 0.0756 - accuracy: 0.8943\n",
            "Epoch 4/6\n",
            "938/938 [==============================] - 3s 3ms/step - loss: 0.0750 - accuracy: 0.8946\n",
            "Epoch 5/6\n",
            "938/938 [==============================] - 3s 3ms/step - loss: 0.0747 - accuracy: 0.8950\n",
            "Epoch 6/6\n",
            "938/938 [==============================] - 3s 4ms/step - loss: 0.0747 - accuracy: 0.8949\n",
            "2, 1, 2\n",
            "Epoch 1/6\n",
            "938/938 [==============================] - 3s 4ms/step - loss: 0.0802 - accuracy: 0.8873\n",
            "Epoch 2/6\n",
            "938/938 [==============================] - 3s 4ms/step - loss: 0.0788 - accuracy: 0.8896\n",
            "Epoch 3/6\n",
            "938/938 [==============================] - 3s 3ms/step - loss: 0.0781 - accuracy: 0.8896\n",
            "Epoch 4/6\n",
            "938/938 [==============================] - 3s 3ms/step - loss: 0.0765 - accuracy: 0.8922\n",
            "Epoch 5/6\n",
            "938/938 [==============================] - 3s 4ms/step - loss: 0.0760 - accuracy: 0.8925\n",
            "Epoch 6/6\n",
            "938/938 [==============================] - 3s 4ms/step - loss: 0.0749 - accuracy: 0.8935\n",
            "2, 2, 0\n",
            "Epoch 1/6\n",
            "938/938 [==============================] - 3s 3ms/step - loss: 0.0783 - accuracy: 0.8894\n",
            "Epoch 2/6\n",
            "938/938 [==============================] - 4s 4ms/step - loss: 0.0777 - accuracy: 0.8895\n",
            "Epoch 3/6\n",
            "938/938 [==============================] - 3s 3ms/step - loss: 0.0764 - accuracy: 0.8912\n",
            "Epoch 4/6\n",
            "938/938 [==============================] - 3s 3ms/step - loss: 0.0754 - accuracy: 0.8929\n",
            "Epoch 5/6\n",
            "938/938 [==============================] - 3s 4ms/step - loss: 0.0741 - accuracy: 0.8948\n",
            "Epoch 6/6\n",
            "938/938 [==============================] - 3s 3ms/step - loss: 0.0738 - accuracy: 0.8958\n",
            "2, 2, 1\n",
            "Epoch 1/6\n",
            "938/938 [==============================] - 3s 3ms/step - loss: 0.0782 - accuracy: 0.8887\n",
            "Epoch 2/6\n",
            "938/938 [==============================] - 3s 4ms/step - loss: 0.0769 - accuracy: 0.8896\n",
            "Epoch 3/6\n",
            "938/938 [==============================] - 3s 3ms/step - loss: 0.0763 - accuracy: 0.8910\n",
            "Epoch 4/6\n",
            "938/938 [==============================] - 3s 3ms/step - loss: 0.0746 - accuracy: 0.8939\n",
            "Epoch 5/6\n",
            "938/938 [==============================] - 3s 4ms/step - loss: 0.0748 - accuracy: 0.8935\n",
            "Epoch 6/6\n",
            "938/938 [==============================] - 3s 3ms/step - loss: 0.0737 - accuracy: 0.8961\n",
            "2, 2, 2\n",
            "Epoch 1/6\n",
            "938/938 [==============================] - 3s 3ms/step - loss: 0.0455 - accuracy: 0.9373\n",
            "Epoch 2/6\n",
            "938/938 [==============================] - 3s 3ms/step - loss: 0.0451 - accuracy: 0.9373\n",
            "Epoch 3/6\n",
            "938/938 [==============================] - 3s 3ms/step - loss: 0.0436 - accuracy: 0.9402\n",
            "Epoch 4/6\n",
            "938/938 [==============================] - 3s 3ms/step - loss: 0.0432 - accuracy: 0.9409\n",
            "Epoch 5/6\n",
            "938/938 [==============================] - 3s 3ms/step - loss: 0.0424 - accuracy: 0.9411\n",
            "Epoch 6/6\n",
            "938/938 [==============================] - 3s 3ms/step - loss: 0.0411 - accuracy: 0.9443\n"
          ]
        }
      ],
      "source": [
        "for x in range(corner_n):\n",
        "  for y in range(corner_n):\n",
        "    for z in range(corner_n):\n",
        "      print(f\"{x}, {y}, {z}\")\n",
        "      model_cube[x][y][z].fit(train_outputs, train_objects[:,x,y,z], epochs=6)\n",
        "\n"
      ]
    },
    {
      "cell_type": "code",
      "execution_count": null,
      "metadata": {
        "colab": {
          "base_uri": "https://localhost:8080/"
        },
        "id": "rihrCwmbidEp",
        "outputId": "d22ed29d-f077-495c-bc13-d3bd338c3531"
      },
      "outputs": [
        {
          "name": "stdout",
          "output_type": "stream",
          "text": [
            "32/32 [==============================] - 0s 2ms/step - loss: 0.0409 - accuracy: 0.9460\n",
            "Test accuracy:  0.9459999799728394\n",
            "32/32 [==============================] - 0s 2ms/step - loss: 0.0718 - accuracy: 0.8990\n",
            "Test accuracy:  0.8989999890327454\n",
            "32/32 [==============================] - 0s 2ms/step - loss: 0.0684 - accuracy: 0.9000\n",
            "Test accuracy:  0.8999999761581421\n",
            "32/32 [==============================] - 0s 2ms/step - loss: 0.0805 - accuracy: 0.8830\n",
            "Test accuracy:  0.8830000162124634\n",
            "32/32 [==============================] - 0s 2ms/step - loss: 0.0754 - accuracy: 0.8970\n",
            "Test accuracy:  0.8970000147819519\n",
            "32/32 [==============================] - 0s 1ms/step - loss: 0.0922 - accuracy: 0.8620\n",
            "Test accuracy:  0.8619999885559082\n",
            "32/32 [==============================] - 0s 2ms/step - loss: 0.0844 - accuracy: 0.8750\n",
            "Test accuracy:  0.875\n",
            "32/32 [==============================] - 0s 2ms/step - loss: 0.0932 - accuracy: 0.8670\n",
            "Test accuracy:  0.8669999837875366\n",
            "32/32 [==============================] - 0s 2ms/step - loss: 0.0814 - accuracy: 0.8770\n",
            "Test accuracy:  0.8769999742507935\n",
            "32/32 [==============================] - 0s 2ms/step - loss: 0.0695 - accuracy: 0.9020\n",
            "Test accuracy:  0.9020000100135803\n",
            "32/32 [==============================] - 0s 2ms/step - loss: 0.0725 - accuracy: 0.9000\n",
            "Test accuracy:  0.8999999761581421\n",
            "32/32 [==============================] - 0s 2ms/step - loss: 0.0879 - accuracy: 0.8700\n",
            "Test accuracy:  0.8700000047683716\n",
            "32/32 [==============================] - 0s 2ms/step - loss: 0.0656 - accuracy: 0.9150\n",
            "Test accuracy:  0.9150000214576721\n",
            "32/32 [==============================] - 0s 2ms/step - loss: 0.0365 - accuracy: 0.9490\n",
            "Test accuracy:  0.9490000009536743\n",
            "32/32 [==============================] - 0s 2ms/step - loss: 0.0679 - accuracy: 0.9030\n",
            "Test accuracy:  0.902999997138977\n",
            "32/32 [==============================] - 0s 2ms/step - loss: 0.0954 - accuracy: 0.8710\n",
            "Test accuracy:  0.8709999918937683\n",
            "32/32 [==============================] - 0s 2ms/step - loss: 0.0706 - accuracy: 0.8930\n",
            "Test accuracy:  0.8930000066757202\n",
            "32/32 [==============================] - 0s 2ms/step - loss: 0.0777 - accuracy: 0.8950\n",
            "Test accuracy:  0.8949999809265137\n",
            "32/32 [==============================] - 0s 2ms/step - loss: 0.0801 - accuracy: 0.8820\n",
            "Test accuracy:  0.8820000290870667\n",
            "32/32 [==============================] - 0s 2ms/step - loss: 0.0936 - accuracy: 0.8640\n",
            "Test accuracy:  0.8640000224113464\n",
            "32/32 [==============================] - 0s 2ms/step - loss: 0.0718 - accuracy: 0.9010\n",
            "Test accuracy:  0.9010000228881836\n",
            "32/32 [==============================] - 0s 2ms/step - loss: 0.1049 - accuracy: 0.8580\n",
            "Test accuracy:  0.8579999804496765\n",
            "32/32 [==============================] - 0s 2ms/step - loss: 0.0812 - accuracy: 0.8800\n",
            "Test accuracy:  0.8799999952316284\n",
            "32/32 [==============================] - 0s 2ms/step - loss: 0.0730 - accuracy: 0.8970\n",
            "Test accuracy:  0.8970000147819519\n",
            "32/32 [==============================] - 0s 1ms/step - loss: 0.0684 - accuracy: 0.8970\n",
            "Test accuracy:  0.8970000147819519\n",
            "32/32 [==============================] - 0s 2ms/step - loss: 0.0770 - accuracy: 0.8900\n",
            "Test accuracy:  0.8899999856948853\n",
            "32/32 [==============================] - 0s 2ms/step - loss: 0.0492 - accuracy: 0.9340\n",
            "Test accuracy:  0.9340000152587891\n"
          ]
        }
      ],
      "source": [
        "for x in range(corner_n):\n",
        "  for y in range(corner_n):\n",
        "    for z in range(corner_n):\n",
        "      test_loss, test_acc = model_cube[x][y][z].evaluate(test_outputs, test_objects[:,x,y,z], verbose=1)\n",
        "      print('Test accuracy: ', test_acc)\n",
        "\n"
      ]
    },
    {
      "cell_type": "code",
      "execution_count": null,
      "metadata": {
        "colab": {
          "base_uri": "https://localhost:8080/"
        },
        "id": "ATdELND0kvXy",
        "outputId": "c56fb793-a3d4-4389-bd88-1d742d320720"
      },
      "outputs": [
        {
          "name": "stdout",
          "output_type": "stream",
          "text": [
            "(1000, 24)\n",
            "(1000,)\n"
          ]
        }
      ],
      "source": [
        "print(test_outputs.shape)\n",
        "print(np.transpose(model_cube[0][0][0].predict(test_outputs))[0].shape)\n",
        "\n",
        "predictions = np.empty((test_len, corner_n, corner_n, corner_n))\n",
        "\n",
        "\n",
        "for x in range(corner_n):\n",
        "  for y in range(corner_n):\n",
        "    for z in range(corner_n):\n",
        "      predictions[:,x,y,z] = np.transpose(model_cube[x][y][z].predict(test_outputs))[0]\n"
      ]
    },
    {
      "cell_type": "code",
      "execution_count": null,
      "metadata": {
        "colab": {
          "base_uri": "https://localhost:8080/"
        },
        "id": "ZoAuOZmUZY29",
        "outputId": "3316cb6b-ed2b-4139-91e2-453cf484a663"
      },
      "outputs": [
        {
          "name": "stdout",
          "output_type": "stream",
          "text": [
            "0.8928518518518519\n",
            "24107\n",
            "2893\n"
          ]
        }
      ],
      "source": [
        "predicted_test_objects = np.rint(predictions)\n",
        "\n",
        "correct_predictions = 0\n",
        "false_predictions = 0\n",
        "for i in range(test_len):\n",
        "  for x in range(corner_n):\n",
        "    for y in range(corner_n):\n",
        "      for z in range(corner_n):\n",
        "        if (predicted_test_objects[i,x,y,z] == test_objects[i, x, y, z]):\n",
        "          correct_predictions += 1\n",
        "        else:\n",
        "          false_predictions +=1\n",
        "\n",
        "print(correct_predictions/(false_predictions+correct_predictions))\n",
        "print(correct_predictions)\n",
        "print(false_predictions)\n"
      ]
    },
    {
      "cell_type": "code",
      "execution_count": null,
      "metadata": {
        "id": "x3ayGdC70udA"
      },
      "outputs": [],
      "source": [
        "from mpl_toolkits.mplot3d import Axes3D\n",
        "import matplotlib.pyplot as plt\n"
      ]
    },
    {
      "cell_type": "code",
      "execution_count": null,
      "metadata": {
        "colab": {
          "base_uri": "https://localhost:8080/"
        },
        "id": "tp06CdSH7Hc1",
        "outputId": "26622720-b1c7-4cec-cc6e-0b166717183e"
      },
      "outputs": [
        {
          "name": "stdout",
          "output_type": "stream",
          "text": [
            "[[[0. 1. 0.]\n",
            "  [1. 1. 0.]\n",
            "  [0. 0. 0.]]\n",
            "\n",
            " [[1. 1. 1.]\n",
            "  [0. 0. 1.]\n",
            "  [1. 1. 0.]]\n",
            "\n",
            " [[0. 0. 0.]\n",
            "  [0. 1. 0.]\n",
            "  [1. 1. 0.]]]\n",
            "[[[0. 1. 0.]\n",
            "  [1. 1. 0.]\n",
            "  [0. 0. 0.]]\n",
            "\n",
            " [[1. 1. 1.]\n",
            "  [0. 0. 0.]\n",
            "  [1. 1. 0.]]\n",
            "\n",
            " [[0. 0. 0.]\n",
            "  [0. 1. 0.]\n",
            "  [1. 1. 0.]]]\n",
            "[3. 6. 3. 4. 4. 4. 4. 6. 2. 1. 5. 1. 3. 2. 1. 4. 3. 4. 0. 1. 3. 5. 3. 0.]\n"
          ]
        }
      ],
      "source": [
        "index = 120\n",
        "\n",
        "predicted_shape = np.rint(predictions[index])\n",
        "real_shape = test_objects[index]\n",
        "print(real_shape)\n",
        "print(predicted_shape)\n",
        "print(test_outputs[index])"
      ]
    },
    {
      "cell_type": "code",
      "execution_count": null,
      "metadata": {
        "colab": {
          "base_uri": "https://localhost:8080/",
          "height": 248
        },
        "id": "CjhewDOm0yCJ",
        "outputId": "2998753e-03b8-40d1-8b4d-65eb1594977f"
      },
      "outputs": [
        {
          "data": {
            "image/png": "[encoded data removed]",
            "text/plain": [
              "<Figure size 432x288 with 1 Axes>"
            ]
          },
          "metadata": {
            "needs_background": "light"
          },
          "output_type": "display_data"
        }
      ],
      "source": [
        "fig = plt.figure()\n",
        "ax = fig.gca(projection='3d')\n",
        "\n",
        "ax.voxels(predicted_shape, edgecolor=\"k\")\n",
        "\n",
        "plt.show()"
      ]
    },
    {
      "cell_type": "code",
      "execution_count": null,
      "metadata": {
        "colab": {
          "base_uri": "https://localhost:8080/",
          "height": 248
        },
        "id": "hkREceHcE9sD",
        "outputId": "f9af0e05-f0a2-4a46-ff75-c38975c26d19"
      },
      "outputs": [
        {
          "data": {
            "image/png": "[encoded data removed]",
            "text/plain": [
              "<Figure size 432x288 with 1 Axes>"
            ]
          },
          "metadata": {
            "needs_background": "light"
          },
          "output_type": "display_data"
        }
      ],
      "source": [
        "fig = plt.figure()\n",
        "ax = fig.gca(projection='3d')\n",
        "\n",
        "ax.voxels(real_shape, edgecolor=\"k\")\n",
        "\n",
        "plt.show()"
      ]
    },
    {
      "cell_type": "code",
      "execution_count": null,
      "metadata": {
        "colab": {
          "base_uri": "https://localhost:8080/"
        },
        "id": "7YLN50vi_wBp",
        "outputId": "88f2203b-7aab-4d40-9f45-a4ae0663d99c"
      },
      "outputs": [
        {
          "name": "stdout",
          "output_type": "stream",
          "text": [
            "[[[1. 0. 0.]\n",
            "  [1. 1. 1.]\n",
            "  [0. 0. 1.]]\n",
            "\n",
            " [[1. 1. 0.]\n",
            "  [1. 0. 1.]\n",
            "  [0. 1. 0.]]\n",
            "\n",
            " [[0. 1. 1.]\n",
            "  [0. 1. 0.]\n",
            "  [0. 0. 1.]]]\n"
          ]
        }
      ],
      "source": [
        "print(train_objects[1])"
      ]
    }
  ],
  "metadata": {
    "colab": {
      "name": "general objects.ipynb",
      "provenance": []
    },
    "kernelspec": {
      "display_name": "Python 3",
      "name": "python3"
    },
    "language_info": {
      "name": "python"
    }
  },
  "nbformat": 4,
  "nbformat_minor": 0
}
